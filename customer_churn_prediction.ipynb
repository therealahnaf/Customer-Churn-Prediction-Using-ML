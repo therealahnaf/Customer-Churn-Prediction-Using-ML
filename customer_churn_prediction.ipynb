{
  "nbformat": 4,
  "nbformat_minor": 0,
  "metadata": {
    "colab": {
      "provenance": []
    },
    "kernelspec": {
      "name": "python3",
      "display_name": "Python 3"
    },
    "language_info": {
      "name": "python"
    }
  },
  "cells": [
    {
      "cell_type": "markdown",
      "source": [
        "## Mount Drive, Load Data from CSV File & Import Libraries"
      ],
      "metadata": {
        "id": "YAbgfmxHstFg"
      }
    },
    {
      "cell_type": "code",
      "source": [
        "import pandas as pd\n",
        "import numpy as np\n",
        "from google.colab import drive\n",
        "\n",
        "drive.mount('/content/gdrive')"
      ],
      "metadata": {
        "id": "uDoi69qylYk4",
        "colab": {
          "base_uri": "https://localhost:8080/"
        },
        "outputId": "2f552dfb-cc19-4473-bce0-79a745bc2198"
      },
      "execution_count": null,
      "outputs": [
        {
          "output_type": "stream",
          "name": "stdout",
          "text": [
            "Drive already mounted at /content/gdrive; to attempt to forcibly remount, call drive.mount(\"/content/gdrive\", force_remount=True).\n"
          ]
        }
      ]
    },
    {
      "cell_type": "code",
      "source": [
        "data = pd.read_csv(\"/content/gdrive/MyDrive/BRACU/Semesters/Sem 07 (Fall23)/CSE422/Labs/cse422-lab-project/dataset/Telco-Customer-Churn - Telco-Customer-Churn.csv\")\n",
        "data.head(10)"
      ],
      "metadata": {
        "colab": {
          "base_uri": "https://localhost:8080/",
          "height": 586
        },
        "id": "rw8_xR7FihKa",
        "outputId": "d123b0ab-2e18-4021-c190-4be39dc1e27e"
      },
      "execution_count": null,
      "outputs": [
        {
          "output_type": "execute_result",
          "data": {
            "text/plain": [
              "   customerID  gender SeniorCitizen Partner  HaveDog Dependents  tenure  \\\n",
              "0  7590-VHVEG  Female            No     Yes      NaN         No     1.0   \n",
              "1  5575-GNVDE    Male            No      No      NaN         No    34.0   \n",
              "2  3668-QPYBK    Male            No      No      NaN         No     2.0   \n",
              "3  7795-CFOCW    Male            No      No      NaN         No    45.0   \n",
              "4  9237-HQITU  Female            No      No      NaN         No     2.0   \n",
              "5  9305-CDSKC  Female            No      No      NaN         No     8.0   \n",
              "6  1452-KIOVK    Male            No      No      NaN        Yes    22.0   \n",
              "7  6713-OKOMC  Female            No      No      NaN         No    10.0   \n",
              "8  7892-POOKP  Female            No     Yes      NaN         No    28.0   \n",
              "9  6388-TABGU    Male            No      No      NaN        Yes    62.0   \n",
              "\n",
              "   WatchNetflix PhoneService     MultipleLines  ... TechSupport FeelsLonely  \\\n",
              "0           NaN           No  No phone service  ...          No         NaN   \n",
              "1           NaN          Yes                No  ...          No         NaN   \n",
              "2           NaN          Yes                No  ...          No         NaN   \n",
              "3           NaN           No  No phone service  ...         Yes         NaN   \n",
              "4           NaN          Yes                No  ...          No         NaN   \n",
              "5           NaN          Yes               Yes  ...          No         NaN   \n",
              "6           NaN          Yes               Yes  ...          No         NaN   \n",
              "7           NaN           No  No phone service  ...          No         NaN   \n",
              "8           NaN          Yes               Yes  ...         Yes         NaN   \n",
              "9           NaN          Yes                No  ...          No         NaN   \n",
              "\n",
              "   StreamingTV StreamingMovies        Contract PaperlessBilling  \\\n",
              "0           No              No  Month-to-month              Yes   \n",
              "1           No              No        One year               No   \n",
              "2           No              No  Month-to-month              Yes   \n",
              "3           No              No        One year               No   \n",
              "4           No              No  Month-to-month              Yes   \n",
              "5          Yes             Yes  Month-to-month              Yes   \n",
              "6          Yes              No  Month-to-month              Yes   \n",
              "7           No              No  Month-to-month               No   \n",
              "8          Yes             Yes  Month-to-month              Yes   \n",
              "9           No              No        One year               No   \n",
              "\n",
              "               PaymentMethod MonthlyCharges TotalCharges Churn  \n",
              "0           Electronic check          29.85        29.85    No  \n",
              "1               Mailed check          56.95      1889.50    No  \n",
              "2               Mailed check          53.85       108.15   Yes  \n",
              "3  Bank transfer (automatic)          42.30      1840.75    No  \n",
              "4           Electronic check          70.70       151.65   Yes  \n",
              "5           Electronic check          99.65       820.50   Yes  \n",
              "6    Credit card (automatic)          89.10      1949.40    No  \n",
              "7               Mailed check          29.75       301.90    No  \n",
              "8           Electronic check         104.80      3046.05   Yes  \n",
              "9  Bank transfer (automatic)          56.15      3487.95    No  \n",
              "\n",
              "[10 rows x 25 columns]"
            ],
            "text/html": [
              "\n",
              "  <div id=\"df-a9947e8d-d9c1-405f-84ea-216cb44c6920\" class=\"colab-df-container\">\n",
              "    <div>\n",
              "<style scoped>\n",
              "    .dataframe tbody tr th:only-of-type {\n",
              "        vertical-align: middle;\n",
              "    }\n",
              "\n",
              "    .dataframe tbody tr th {\n",
              "        vertical-align: top;\n",
              "    }\n",
              "\n",
              "    .dataframe thead th {\n",
              "        text-align: right;\n",
              "    }\n",
              "</style>\n",
              "<table border=\"1\" class=\"dataframe\">\n",
              "  <thead>\n",
              "    <tr style=\"text-align: right;\">\n",
              "      <th></th>\n",
              "      <th>customerID</th>\n",
              "      <th>gender</th>\n",
              "      <th>SeniorCitizen</th>\n",
              "      <th>Partner</th>\n",
              "      <th>HaveDog</th>\n",
              "      <th>Dependents</th>\n",
              "      <th>tenure</th>\n",
              "      <th>WatchNetflix</th>\n",
              "      <th>PhoneService</th>\n",
              "      <th>MultipleLines</th>\n",
              "      <th>...</th>\n",
              "      <th>TechSupport</th>\n",
              "      <th>FeelsLonely</th>\n",
              "      <th>StreamingTV</th>\n",
              "      <th>StreamingMovies</th>\n",
              "      <th>Contract</th>\n",
              "      <th>PaperlessBilling</th>\n",
              "      <th>PaymentMethod</th>\n",
              "      <th>MonthlyCharges</th>\n",
              "      <th>TotalCharges</th>\n",
              "      <th>Churn</th>\n",
              "    </tr>\n",
              "  </thead>\n",
              "  <tbody>\n",
              "    <tr>\n",
              "      <th>0</th>\n",
              "      <td>7590-VHVEG</td>\n",
              "      <td>Female</td>\n",
              "      <td>No</td>\n",
              "      <td>Yes</td>\n",
              "      <td>NaN</td>\n",
              "      <td>No</td>\n",
              "      <td>1.0</td>\n",
              "      <td>NaN</td>\n",
              "      <td>No</td>\n",
              "      <td>No phone service</td>\n",
              "      <td>...</td>\n",
              "      <td>No</td>\n",
              "      <td>NaN</td>\n",
              "      <td>No</td>\n",
              "      <td>No</td>\n",
              "      <td>Month-to-month</td>\n",
              "      <td>Yes</td>\n",
              "      <td>Electronic check</td>\n",
              "      <td>29.85</td>\n",
              "      <td>29.85</td>\n",
              "      <td>No</td>\n",
              "    </tr>\n",
              "    <tr>\n",
              "      <th>1</th>\n",
              "      <td>5575-GNVDE</td>\n",
              "      <td>Male</td>\n",
              "      <td>No</td>\n",
              "      <td>No</td>\n",
              "      <td>NaN</td>\n",
              "      <td>No</td>\n",
              "      <td>34.0</td>\n",
              "      <td>NaN</td>\n",
              "      <td>Yes</td>\n",
              "      <td>No</td>\n",
              "      <td>...</td>\n",
              "      <td>No</td>\n",
              "      <td>NaN</td>\n",
              "      <td>No</td>\n",
              "      <td>No</td>\n",
              "      <td>One year</td>\n",
              "      <td>No</td>\n",
              "      <td>Mailed check</td>\n",
              "      <td>56.95</td>\n",
              "      <td>1889.50</td>\n",
              "      <td>No</td>\n",
              "    </tr>\n",
              "    <tr>\n",
              "      <th>2</th>\n",
              "      <td>3668-QPYBK</td>\n",
              "      <td>Male</td>\n",
              "      <td>No</td>\n",
              "      <td>No</td>\n",
              "      <td>NaN</td>\n",
              "      <td>No</td>\n",
              "      <td>2.0</td>\n",
              "      <td>NaN</td>\n",
              "      <td>Yes</td>\n",
              "      <td>No</td>\n",
              "      <td>...</td>\n",
              "      <td>No</td>\n",
              "      <td>NaN</td>\n",
              "      <td>No</td>\n",
              "      <td>No</td>\n",
              "      <td>Month-to-month</td>\n",
              "      <td>Yes</td>\n",
              "      <td>Mailed check</td>\n",
              "      <td>53.85</td>\n",
              "      <td>108.15</td>\n",
              "      <td>Yes</td>\n",
              "    </tr>\n",
              "    <tr>\n",
              "      <th>3</th>\n",
              "      <td>7795-CFOCW</td>\n",
              "      <td>Male</td>\n",
              "      <td>No</td>\n",
              "      <td>No</td>\n",
              "      <td>NaN</td>\n",
              "      <td>No</td>\n",
              "      <td>45.0</td>\n",
              "      <td>NaN</td>\n",
              "      <td>No</td>\n",
              "      <td>No phone service</td>\n",
              "      <td>...</td>\n",
              "      <td>Yes</td>\n",
              "      <td>NaN</td>\n",
              "      <td>No</td>\n",
              "      <td>No</td>\n",
              "      <td>One year</td>\n",
              "      <td>No</td>\n",
              "      <td>Bank transfer (automatic)</td>\n",
              "      <td>42.30</td>\n",
              "      <td>1840.75</td>\n",
              "      <td>No</td>\n",
              "    </tr>\n",
              "    <tr>\n",
              "      <th>4</th>\n",
              "      <td>9237-HQITU</td>\n",
              "      <td>Female</td>\n",
              "      <td>No</td>\n",
              "      <td>No</td>\n",
              "      <td>NaN</td>\n",
              "      <td>No</td>\n",
              "      <td>2.0</td>\n",
              "      <td>NaN</td>\n",
              "      <td>Yes</td>\n",
              "      <td>No</td>\n",
              "      <td>...</td>\n",
              "      <td>No</td>\n",
              "      <td>NaN</td>\n",
              "      <td>No</td>\n",
              "      <td>No</td>\n",
              "      <td>Month-to-month</td>\n",
              "      <td>Yes</td>\n",
              "      <td>Electronic check</td>\n",
              "      <td>70.70</td>\n",
              "      <td>151.65</td>\n",
              "      <td>Yes</td>\n",
              "    </tr>\n",
              "    <tr>\n",
              "      <th>5</th>\n",
              "      <td>9305-CDSKC</td>\n",
              "      <td>Female</td>\n",
              "      <td>No</td>\n",
              "      <td>No</td>\n",
              "      <td>NaN</td>\n",
              "      <td>No</td>\n",
              "      <td>8.0</td>\n",
              "      <td>NaN</td>\n",
              "      <td>Yes</td>\n",
              "      <td>Yes</td>\n",
              "      <td>...</td>\n",
              "      <td>No</td>\n",
              "      <td>NaN</td>\n",
              "      <td>Yes</td>\n",
              "      <td>Yes</td>\n",
              "      <td>Month-to-month</td>\n",
              "      <td>Yes</td>\n",
              "      <td>Electronic check</td>\n",
              "      <td>99.65</td>\n",
              "      <td>820.50</td>\n",
              "      <td>Yes</td>\n",
              "    </tr>\n",
              "    <tr>\n",
              "      <th>6</th>\n",
              "      <td>1452-KIOVK</td>\n",
              "      <td>Male</td>\n",
              "      <td>No</td>\n",
              "      <td>No</td>\n",
              "      <td>NaN</td>\n",
              "      <td>Yes</td>\n",
              "      <td>22.0</td>\n",
              "      <td>NaN</td>\n",
              "      <td>Yes</td>\n",
              "      <td>Yes</td>\n",
              "      <td>...</td>\n",
              "      <td>No</td>\n",
              "      <td>NaN</td>\n",
              "      <td>Yes</td>\n",
              "      <td>No</td>\n",
              "      <td>Month-to-month</td>\n",
              "      <td>Yes</td>\n",
              "      <td>Credit card (automatic)</td>\n",
              "      <td>89.10</td>\n",
              "      <td>1949.40</td>\n",
              "      <td>No</td>\n",
              "    </tr>\n",
              "    <tr>\n",
              "      <th>7</th>\n",
              "      <td>6713-OKOMC</td>\n",
              "      <td>Female</td>\n",
              "      <td>No</td>\n",
              "      <td>No</td>\n",
              "      <td>NaN</td>\n",
              "      <td>No</td>\n",
              "      <td>10.0</td>\n",
              "      <td>NaN</td>\n",
              "      <td>No</td>\n",
              "      <td>No phone service</td>\n",
              "      <td>...</td>\n",
              "      <td>No</td>\n",
              "      <td>NaN</td>\n",
              "      <td>No</td>\n",
              "      <td>No</td>\n",
              "      <td>Month-to-month</td>\n",
              "      <td>No</td>\n",
              "      <td>Mailed check</td>\n",
              "      <td>29.75</td>\n",
              "      <td>301.90</td>\n",
              "      <td>No</td>\n",
              "    </tr>\n",
              "    <tr>\n",
              "      <th>8</th>\n",
              "      <td>7892-POOKP</td>\n",
              "      <td>Female</td>\n",
              "      <td>No</td>\n",
              "      <td>Yes</td>\n",
              "      <td>NaN</td>\n",
              "      <td>No</td>\n",
              "      <td>28.0</td>\n",
              "      <td>NaN</td>\n",
              "      <td>Yes</td>\n",
              "      <td>Yes</td>\n",
              "      <td>...</td>\n",
              "      <td>Yes</td>\n",
              "      <td>NaN</td>\n",
              "      <td>Yes</td>\n",
              "      <td>Yes</td>\n",
              "      <td>Month-to-month</td>\n",
              "      <td>Yes</td>\n",
              "      <td>Electronic check</td>\n",
              "      <td>104.80</td>\n",
              "      <td>3046.05</td>\n",
              "      <td>Yes</td>\n",
              "    </tr>\n",
              "    <tr>\n",
              "      <th>9</th>\n",
              "      <td>6388-TABGU</td>\n",
              "      <td>Male</td>\n",
              "      <td>No</td>\n",
              "      <td>No</td>\n",
              "      <td>NaN</td>\n",
              "      <td>Yes</td>\n",
              "      <td>62.0</td>\n",
              "      <td>NaN</td>\n",
              "      <td>Yes</td>\n",
              "      <td>No</td>\n",
              "      <td>...</td>\n",
              "      <td>No</td>\n",
              "      <td>NaN</td>\n",
              "      <td>No</td>\n",
              "      <td>No</td>\n",
              "      <td>One year</td>\n",
              "      <td>No</td>\n",
              "      <td>Bank transfer (automatic)</td>\n",
              "      <td>56.15</td>\n",
              "      <td>3487.95</td>\n",
              "      <td>No</td>\n",
              "    </tr>\n",
              "  </tbody>\n",
              "</table>\n",
              "<p>10 rows × 25 columns</p>\n",
              "</div>\n",
              "    <div class=\"colab-df-buttons\">\n",
              "\n",
              "  <div class=\"colab-df-container\">\n",
              "    <button class=\"colab-df-convert\" onclick=\"convertToInteractive('df-a9947e8d-d9c1-405f-84ea-216cb44c6920')\"\n",
              "            title=\"Convert this dataframe to an interactive table.\"\n",
              "            style=\"display:none;\">\n",
              "\n",
              "  <svg xmlns=\"http://www.w3.org/2000/svg\" height=\"24px\" viewBox=\"0 -960 960 960\">\n",
              "    <path d=\"M120-120v-720h720v720H120Zm60-500h600v-160H180v160Zm220 220h160v-160H400v160Zm0 220h160v-160H400v160ZM180-400h160v-160H180v160Zm440 0h160v-160H620v160ZM180-180h160v-160H180v160Zm440 0h160v-160H620v160Z\"/>\n",
              "  </svg>\n",
              "    </button>\n",
              "\n",
              "  <style>\n",
              "    .colab-df-container {\n",
              "      display:flex;\n",
              "      gap: 12px;\n",
              "    }\n",
              "\n",
              "    .colab-df-convert {\n",
              "      background-color: #E8F0FE;\n",
              "      border: none;\n",
              "      border-radius: 50%;\n",
              "      cursor: pointer;\n",
              "      display: none;\n",
              "      fill: #1967D2;\n",
              "      height: 32px;\n",
              "      padding: 0 0 0 0;\n",
              "      width: 32px;\n",
              "    }\n",
              "\n",
              "    .colab-df-convert:hover {\n",
              "      background-color: #E2EBFA;\n",
              "      box-shadow: 0px 1px 2px rgba(60, 64, 67, 0.3), 0px 1px 3px 1px rgba(60, 64, 67, 0.15);\n",
              "      fill: #174EA6;\n",
              "    }\n",
              "\n",
              "    .colab-df-buttons div {\n",
              "      margin-bottom: 4px;\n",
              "    }\n",
              "\n",
              "    [theme=dark] .colab-df-convert {\n",
              "      background-color: #3B4455;\n",
              "      fill: #D2E3FC;\n",
              "    }\n",
              "\n",
              "    [theme=dark] .colab-df-convert:hover {\n",
              "      background-color: #434B5C;\n",
              "      box-shadow: 0px 1px 3px 1px rgba(0, 0, 0, 0.15);\n",
              "      filter: drop-shadow(0px 1px 2px rgba(0, 0, 0, 0.3));\n",
              "      fill: #FFFFFF;\n",
              "    }\n",
              "  </style>\n",
              "\n",
              "    <script>\n",
              "      const buttonEl =\n",
              "        document.querySelector('#df-a9947e8d-d9c1-405f-84ea-216cb44c6920 button.colab-df-convert');\n",
              "      buttonEl.style.display =\n",
              "        google.colab.kernel.accessAllowed ? 'block' : 'none';\n",
              "\n",
              "      async function convertToInteractive(key) {\n",
              "        const element = document.querySelector('#df-a9947e8d-d9c1-405f-84ea-216cb44c6920');\n",
              "        const dataTable =\n",
              "          await google.colab.kernel.invokeFunction('convertToInteractive',\n",
              "                                                    [key], {});\n",
              "        if (!dataTable) return;\n",
              "\n",
              "        const docLinkHtml = 'Like what you see? Visit the ' +\n",
              "          '<a target=\"_blank\" href=https://colab.research.google.com/notebooks/data_table.ipynb>data table notebook</a>'\n",
              "          + ' to learn more about interactive tables.';\n",
              "        element.innerHTML = '';\n",
              "        dataTable['output_type'] = 'display_data';\n",
              "        await google.colab.output.renderOutput(dataTable, element);\n",
              "        const docLink = document.createElement('div');\n",
              "        docLink.innerHTML = docLinkHtml;\n",
              "        element.appendChild(docLink);\n",
              "      }\n",
              "    </script>\n",
              "  </div>\n",
              "\n",
              "\n",
              "<div id=\"df-d497c8df-edf4-4103-a079-a3e795d4a56f\">\n",
              "  <button class=\"colab-df-quickchart\" onclick=\"quickchart('df-d497c8df-edf4-4103-a079-a3e795d4a56f')\"\n",
              "            title=\"Suggest charts\"\n",
              "            style=\"display:none;\">\n",
              "\n",
              "<svg xmlns=\"http://www.w3.org/2000/svg\" height=\"24px\"viewBox=\"0 0 24 24\"\n",
              "     width=\"24px\">\n",
              "    <g>\n",
              "        <path d=\"M19 3H5c-1.1 0-2 .9-2 2v14c0 1.1.9 2 2 2h14c1.1 0 2-.9 2-2V5c0-1.1-.9-2-2-2zM9 17H7v-7h2v7zm4 0h-2V7h2v10zm4 0h-2v-4h2v4z\"/>\n",
              "    </g>\n",
              "</svg>\n",
              "  </button>\n",
              "\n",
              "<style>\n",
              "  .colab-df-quickchart {\n",
              "      --bg-color: #E8F0FE;\n",
              "      --fill-color: #1967D2;\n",
              "      --hover-bg-color: #E2EBFA;\n",
              "      --hover-fill-color: #174EA6;\n",
              "      --disabled-fill-color: #AAA;\n",
              "      --disabled-bg-color: #DDD;\n",
              "  }\n",
              "\n",
              "  [theme=dark] .colab-df-quickchart {\n",
              "      --bg-color: #3B4455;\n",
              "      --fill-color: #D2E3FC;\n",
              "      --hover-bg-color: #434B5C;\n",
              "      --hover-fill-color: #FFFFFF;\n",
              "      --disabled-bg-color: #3B4455;\n",
              "      --disabled-fill-color: #666;\n",
              "  }\n",
              "\n",
              "  .colab-df-quickchart {\n",
              "    background-color: var(--bg-color);\n",
              "    border: none;\n",
              "    border-radius: 50%;\n",
              "    cursor: pointer;\n",
              "    display: none;\n",
              "    fill: var(--fill-color);\n",
              "    height: 32px;\n",
              "    padding: 0;\n",
              "    width: 32px;\n",
              "  }\n",
              "\n",
              "  .colab-df-quickchart:hover {\n",
              "    background-color: var(--hover-bg-color);\n",
              "    box-shadow: 0 1px 2px rgba(60, 64, 67, 0.3), 0 1px 3px 1px rgba(60, 64, 67, 0.15);\n",
              "    fill: var(--button-hover-fill-color);\n",
              "  }\n",
              "\n",
              "  .colab-df-quickchart-complete:disabled,\n",
              "  .colab-df-quickchart-complete:disabled:hover {\n",
              "    background-color: var(--disabled-bg-color);\n",
              "    fill: var(--disabled-fill-color);\n",
              "    box-shadow: none;\n",
              "  }\n",
              "\n",
              "  .colab-df-spinner {\n",
              "    border: 2px solid var(--fill-color);\n",
              "    border-color: transparent;\n",
              "    border-bottom-color: var(--fill-color);\n",
              "    animation:\n",
              "      spin 1s steps(1) infinite;\n",
              "  }\n",
              "\n",
              "  @keyframes spin {\n",
              "    0% {\n",
              "      border-color: transparent;\n",
              "      border-bottom-color: var(--fill-color);\n",
              "      border-left-color: var(--fill-color);\n",
              "    }\n",
              "    20% {\n",
              "      border-color: transparent;\n",
              "      border-left-color: var(--fill-color);\n",
              "      border-top-color: var(--fill-color);\n",
              "    }\n",
              "    30% {\n",
              "      border-color: transparent;\n",
              "      border-left-color: var(--fill-color);\n",
              "      border-top-color: var(--fill-color);\n",
              "      border-right-color: var(--fill-color);\n",
              "    }\n",
              "    40% {\n",
              "      border-color: transparent;\n",
              "      border-right-color: var(--fill-color);\n",
              "      border-top-color: var(--fill-color);\n",
              "    }\n",
              "    60% {\n",
              "      border-color: transparent;\n",
              "      border-right-color: var(--fill-color);\n",
              "    }\n",
              "    80% {\n",
              "      border-color: transparent;\n",
              "      border-right-color: var(--fill-color);\n",
              "      border-bottom-color: var(--fill-color);\n",
              "    }\n",
              "    90% {\n",
              "      border-color: transparent;\n",
              "      border-bottom-color: var(--fill-color);\n",
              "    }\n",
              "  }\n",
              "</style>\n",
              "\n",
              "  <script>\n",
              "    async function quickchart(key) {\n",
              "      const quickchartButtonEl =\n",
              "        document.querySelector('#' + key + ' button');\n",
              "      quickchartButtonEl.disabled = true;  // To prevent multiple clicks.\n",
              "      quickchartButtonEl.classList.add('colab-df-spinner');\n",
              "      try {\n",
              "        const charts = await google.colab.kernel.invokeFunction(\n",
              "            'suggestCharts', [key], {});\n",
              "      } catch (error) {\n",
              "        console.error('Error during call to suggestCharts:', error);\n",
              "      }\n",
              "      quickchartButtonEl.classList.remove('colab-df-spinner');\n",
              "      quickchartButtonEl.classList.add('colab-df-quickchart-complete');\n",
              "    }\n",
              "    (() => {\n",
              "      let quickchartButtonEl =\n",
              "        document.querySelector('#df-d497c8df-edf4-4103-a079-a3e795d4a56f button');\n",
              "      quickchartButtonEl.style.display =\n",
              "        google.colab.kernel.accessAllowed ? 'block' : 'none';\n",
              "    })();\n",
              "  </script>\n",
              "</div>\n",
              "    </div>\n",
              "  </div>\n"
            ]
          },
          "metadata": {},
          "execution_count": 24
        }
      ]
    },
    {
      "cell_type": "markdown",
      "source": [
        "## Dataset Analyse & Preprosessing & Feature Selection\n",
        "\n",
        "\n",
        "\n"
      ],
      "metadata": {
        "id": "SVse7vgfs6DB"
      }
    },
    {
      "cell_type": "code",
      "source": [
        "data.shape"
      ],
      "metadata": {
        "colab": {
          "base_uri": "https://localhost:8080/"
        },
        "id": "etkryHL4j23d",
        "outputId": "0a887100-448f-407b-ae76-11aaf9fa26f4"
      },
      "execution_count": null,
      "outputs": [
        {
          "output_type": "execute_result",
          "data": {
            "text/plain": [
              "(7043, 25)"
            ]
          },
          "metadata": {},
          "execution_count": 26
        }
      ]
    },
    {
      "cell_type": "code",
      "source": [
        "data.isnull().sum()"
      ],
      "metadata": {
        "colab": {
          "base_uri": "https://localhost:8080/"
        },
        "id": "Rrl2u736ssY2",
        "outputId": "48040e0c-1696-4b1d-8006-a0652161d500"
      },
      "execution_count": null,
      "outputs": [
        {
          "output_type": "execute_result",
          "data": {
            "text/plain": [
              "customerID             1\n",
              "gender                 5\n",
              "SeniorCitizen          0\n",
              "Partner                3\n",
              "HaveDog             7043\n",
              "Dependents             1\n",
              "tenure                 5\n",
              "WatchNetflix        7043\n",
              "PhoneService           0\n",
              "MultipleLines          6\n",
              "InternetService        4\n",
              "OnlineSecurity         6\n",
              "UseTiktok           7043\n",
              "OnlineBackup           5\n",
              "DeviceProtection       4\n",
              "TechSupport            8\n",
              "FeelsLonely         7043\n",
              "StreamingTV           10\n",
              "StreamingMovies        6\n",
              "Contract               3\n",
              "PaperlessBilling       2\n",
              "PaymentMethod          6\n",
              "MonthlyCharges         6\n",
              "TotalCharges          18\n",
              "Churn                  0\n",
              "dtype: int64"
            ]
          },
          "metadata": {},
          "execution_count": 27
        }
      ]
    },
    {
      "cell_type": "markdown",
      "source": [
        "### Dropping unnecessary columns or features\n",
        "So we can see, we have:\n",
        "- 7043 individual entries or rows with 25 coulumns.\n",
        "- The first 24 columns are our features and the last column `Churn` is our class.\n",
        "- Here the `customerID` feature doesn't seem to contribute anything as all the customers have unique IDs, so we will not find any pattern here. As a result it's better to drop the column `customerID`\n",
        "- Then the columns `HaveDog`, `WatchNetflix`, `UseTiktok`, `FeelsLonely` doesn't seem to have any values in it, all the entries of these columns are null. So it's better to drop these columns as well."
      ],
      "metadata": {
        "id": "1p6Z6RI2vV1B"
      }
    },
    {
      "cell_type": "code",
      "source": [
        "print(\"Shape of dataframe before dropping any features:\", data.shape)\n",
        "data = data.drop(['customerID', 'HaveDog', 'WatchNetflix', 'UseTiktok', 'FeelsLonely'], axis = 1)\n",
        "print(\"Shape of dataframe after dropping unnecessary features:\", data.shape)\n",
        "data.isnull().sum()"
      ],
      "metadata": {
        "colab": {
          "base_uri": "https://localhost:8080/"
        },
        "id": "ltnvWzOvv-g0",
        "outputId": "126f779c-1a1b-4591-df58-abd4ec868765"
      },
      "execution_count": null,
      "outputs": [
        {
          "output_type": "stream",
          "name": "stdout",
          "text": [
            "Shape of dataframe before dropping any features: (7043, 25)\n",
            "Shape of dataframe after dropping unnecessary features: (7043, 20)\n"
          ]
        },
        {
          "output_type": "execute_result",
          "data": {
            "text/plain": [
              "gender               5\n",
              "SeniorCitizen        0\n",
              "Partner              3\n",
              "Dependents           1\n",
              "tenure               5\n",
              "PhoneService         0\n",
              "MultipleLines        6\n",
              "InternetService      4\n",
              "OnlineSecurity       6\n",
              "OnlineBackup         5\n",
              "DeviceProtection     4\n",
              "TechSupport          8\n",
              "StreamingTV         10\n",
              "StreamingMovies      6\n",
              "Contract             3\n",
              "PaperlessBilling     2\n",
              "PaymentMethod        6\n",
              "MonthlyCharges       6\n",
              "TotalCharges        18\n",
              "Churn                0\n",
              "dtype: int64"
            ]
          },
          "metadata": {},
          "execution_count": 28
        }
      ]
    },
    {
      "cell_type": "markdown",
      "source": [
        "### Dropping Entries with Duplicate Values"
      ],
      "metadata": {
        "id": "up2Uvqjk564A"
      }
    },
    {
      "cell_type": "code",
      "source": [
        "data.duplicated().sum()"
      ],
      "metadata": {
        "colab": {
          "base_uri": "https://localhost:8080/"
        },
        "id": "4gmXWV0h6AcJ",
        "outputId": "2442dd82-32c1-4e06-cbfb-121508ce0015"
      },
      "execution_count": null,
      "outputs": [
        {
          "output_type": "execute_result",
          "data": {
            "text/plain": [
              "21"
            ]
          },
          "metadata": {},
          "execution_count": 29
        }
      ]
    },
    {
      "cell_type": "code",
      "source": [
        "print(\"Shape of dataframe before dropping duplicate entries\", data.shape)\n",
        "data.drop_duplicates(inplace=True)\n",
        "print(\"Shape of dataframe after dropping duplicate entries\", data.shape)"
      ],
      "metadata": {
        "colab": {
          "base_uri": "https://localhost:8080/"
        },
        "id": "SGG1zdXk6FvT",
        "outputId": "6255b9b8-dc06-4f2e-8ddc-fbc995927c6d"
      },
      "execution_count": null,
      "outputs": [
        {
          "output_type": "stream",
          "name": "stdout",
          "text": [
            "Shape of dataframe before dropping duplicate entries (7043, 20)\n",
            "Shape of dataframe after dropping duplicate entries (7022, 20)\n"
          ]
        }
      ]
    },
    {
      "cell_type": "markdown",
      "source": [
        "### Removing Rows with Null Values\n",
        "Now we can see in some of the entries there are some null values, or we can say for some entries there are some features without any value. So we can just remove those entries or rows without remove a whole column for it. But we will not remove rows with null value in `StreamingTV` or `TotalCharges` column, as it will result in a great dataloss. We don't wanna do that, instead we will impute those null fields. First let's drop the entries with null values, other than `StreamingTV` or `TotalCharges` column."
      ],
      "metadata": {
        "id": "opr1FODM1ADY"
      }
    },
    {
      "cell_type": "code",
      "source": [
        "print(\"Shape of dataframe before dropping null rows:\", data.shape)\n",
        "data = data.dropna(axis = 0, subset = ['gender', 'Partner', 'Dependents', 'tenure', 'MultipleLines', 'InternetService', 'OnlineSecurity', 'OnlineBackup', 'DeviceProtection', 'TechSupport', 'StreamingMovies', 'Contract', 'PaperlessBilling', 'PaymentMethod', 'MonthlyCharges'])\n",
        "print(\"Shape of dataframe after dropping null rows:\", data.shape)\n",
        "data.isnull().sum()"
      ],
      "metadata": {
        "colab": {
          "base_uri": "https://localhost:8080/"
        },
        "id": "lqjokjOdzmGy",
        "outputId": "2a2262d4-8756-48a1-98ec-bd464b898aad"
      },
      "execution_count": null,
      "outputs": [
        {
          "output_type": "stream",
          "name": "stdout",
          "text": [
            "Shape of dataframe before dropping null rows: (7022, 20)\n",
            "Shape of dataframe after dropping null rows: (6954, 20)\n"
          ]
        },
        {
          "output_type": "execute_result",
          "data": {
            "text/plain": [
              "gender               0\n",
              "SeniorCitizen        0\n",
              "Partner              0\n",
              "Dependents           0\n",
              "tenure               0\n",
              "PhoneService         0\n",
              "MultipleLines        0\n",
              "InternetService      0\n",
              "OnlineSecurity       0\n",
              "OnlineBackup         0\n",
              "DeviceProtection     0\n",
              "TechSupport          0\n",
              "StreamingTV         10\n",
              "StreamingMovies      0\n",
              "Contract             0\n",
              "PaperlessBilling     0\n",
              "PaymentMethod        0\n",
              "MonthlyCharges       0\n",
              "TotalCharges        17\n",
              "Churn                0\n",
              "dtype: int64"
            ]
          },
          "metadata": {},
          "execution_count": 31
        }
      ]
    },
    {
      "cell_type": "markdown",
      "source": [
        "### Imputing Entries with Null Value in the Columns `StreamingTV` & `TotalCharges`"
      ],
      "metadata": {
        "id": "dguD0j4W2krR"
      }
    },
    {
      "cell_type": "code",
      "source": [
        "from sklearn.impute import SimpleImputer\n",
        "print(\"Shape of dataframe before imputng the dataset:\", data.shape)\n",
        "\n",
        "imputeSteamingTV = SimpleImputer(missing_values=np.nan, strategy='most_frequent')\n",
        "\n",
        "imputeSteamingTV.fit(data[['StreamingTV']])\n",
        "\n",
        "data['StreamingTV']  = imputeSteamingTV.transform(data[['StreamingTV']])"
      ],
      "metadata": {
        "id": "2Fd4nWxC2iMW",
        "colab": {
          "base_uri": "https://localhost:8080/"
        },
        "outputId": "95a098e3-ffc5-4c20-dcc9-729cb942e96e"
      },
      "execution_count": null,
      "outputs": [
        {
          "output_type": "stream",
          "name": "stdout",
          "text": [
            "Shape of dataframe before imputng the dataset: (6954, 20)\n"
          ]
        },
        {
          "output_type": "stream",
          "name": "stderr",
          "text": [
            "<ipython-input-32-2e7d2247ccc0>:8: SettingWithCopyWarning: \n",
            "A value is trying to be set on a copy of a slice from a DataFrame.\n",
            "Try using .loc[row_indexer,col_indexer] = value instead\n",
            "\n",
            "See the caveats in the documentation: https://pandas.pydata.org/pandas-docs/stable/user_guide/indexing.html#returning-a-view-versus-a-copy\n",
            "  data['StreamingTV']  = imputeSteamingTV.transform(data[['StreamingTV']])\n"
          ]
        }
      ]
    },
    {
      "cell_type": "code",
      "source": [
        "imputeTotalCharges = SimpleImputer(missing_values=np.nan, strategy='mean')\n",
        "\n",
        "imputeTotalCharges.fit(data[['TotalCharges']])\n",
        "\n",
        "data['TotalCharges']  = imputeTotalCharges.transform(data[['TotalCharges']])"
      ],
      "metadata": {
        "id": "KwNfnk2V3u5L",
        "colab": {
          "base_uri": "https://localhost:8080/"
        },
        "outputId": "37b66375-bf36-4036-e5c9-399ac031a79f"
      },
      "execution_count": null,
      "outputs": [
        {
          "output_type": "stream",
          "name": "stderr",
          "text": [
            "<ipython-input-33-deec7fe29962>:5: SettingWithCopyWarning: \n",
            "A value is trying to be set on a copy of a slice from a DataFrame.\n",
            "Try using .loc[row_indexer,col_indexer] = value instead\n",
            "\n",
            "See the caveats in the documentation: https://pandas.pydata.org/pandas-docs/stable/user_guide/indexing.html#returning-a-view-versus-a-copy\n",
            "  data['TotalCharges']  = imputeTotalCharges.transform(data[['TotalCharges']])\n"
          ]
        }
      ]
    },
    {
      "cell_type": "code",
      "source": [
        "print(\"Shape of dataframe after imputng the dataset:\", data.shape)\n",
        "data.isnull().sum()"
      ],
      "metadata": {
        "colab": {
          "base_uri": "https://localhost:8080/"
        },
        "id": "4BJ2ZQg63hoP",
        "outputId": "f78cd4c4-c48c-4a95-cbea-23a6161109ee"
      },
      "execution_count": null,
      "outputs": [
        {
          "output_type": "stream",
          "name": "stdout",
          "text": [
            "Shape of dataframe after imputng the dataset: (6954, 20)\n"
          ]
        },
        {
          "output_type": "execute_result",
          "data": {
            "text/plain": [
              "gender              0\n",
              "SeniorCitizen       0\n",
              "Partner             0\n",
              "Dependents          0\n",
              "tenure              0\n",
              "PhoneService        0\n",
              "MultipleLines       0\n",
              "InternetService     0\n",
              "OnlineSecurity      0\n",
              "OnlineBackup        0\n",
              "DeviceProtection    0\n",
              "TechSupport         0\n",
              "StreamingTV         0\n",
              "StreamingMovies     0\n",
              "Contract            0\n",
              "PaperlessBilling    0\n",
              "PaymentMethod       0\n",
              "MonthlyCharges      0\n",
              "TotalCharges        0\n",
              "Churn               0\n",
              "dtype: int64"
            ]
          },
          "metadata": {},
          "execution_count": 34
        }
      ]
    },
    {
      "cell_type": "markdown",
      "source": [
        "### Splitting Dataset\n"
      ],
      "metadata": {
        "id": "-_MxQCA86fux"
      }
    },
    {
      "cell_type": "code",
      "source": [
        "from sklearn.model_selection import train_test_split\n",
        "\n",
        "X = data.drop(columns = ['Churn'])\n",
        "y = data['Churn'].values\n",
        "\n",
        "X_train, X_test, y_train, y_test = train_test_split(X, y, test_size = 0.3)\n",
        "\n",
        "print(\"=============== X Train ===============\")\n",
        "cols_to_show = ['gender', 'Dependents', 'PaperlessBilling', 'Contract', 'TotalCharges']\n",
        "print(X_train[cols_to_show])\n",
        "print(\"=============== Y Train ===============\")\n",
        "print(y_train)"
      ],
      "metadata": {
        "colab": {
          "base_uri": "https://localhost:8080/"
        },
        "id": "cz2N8NEBBkoo",
        "outputId": "77ddf97f-ef51-4823-ca63-a04dfcc40496"
      },
      "execution_count": null,
      "outputs": [
        {
          "output_type": "stream",
          "name": "stdout",
          "text": [
            "=============== X Train ===============\n",
            "      gender Dependents PaperlessBilling        Contract  TotalCharges\n",
            "6940  Female        Yes               No        Two year       3880.05\n",
            "1089  Female         No              Yes  Month-to-month       1129.35\n",
            "903   Female         No              Yes        One year       6068.65\n",
            "898   Female         No              Yes  Month-to-month       1120.95\n",
            "5708  Female        Yes              Yes  Month-to-month        864.85\n",
            "...      ...        ...              ...             ...           ...\n",
            "5903    Male         No              Yes        Two year       4627.80\n",
            "5582  Female         No               No        Two year       1183.05\n",
            "1995  Female         No              Yes  Month-to-month         69.95\n",
            "426     Male         No              Yes        One year       5376.40\n",
            "6391    Male        Yes               No        One year       2862.55\n",
            "\n",
            "[4867 rows x 5 columns]\n",
            "=============== Y Train ===============\n",
            "['No' 'No' 'No' ... 'Yes' 'No' 'No']\n"
          ]
        }
      ]
    },
    {
      "cell_type": "markdown",
      "source": [
        "### Encoding Categorical Data & Scale Numeric Data"
      ],
      "metadata": {
        "id": "KMUBzA74BlLP"
      }
    },
    {
      "cell_type": "code",
      "source": [
        "data.info()"
      ],
      "metadata": {
        "colab": {
          "base_uri": "https://localhost:8080/"
        },
        "id": "mUTVUPCL6tLO",
        "outputId": "4640a4b4-b8dd-4658-c7d3-41df71de9e7e"
      },
      "execution_count": null,
      "outputs": [
        {
          "output_type": "stream",
          "name": "stdout",
          "text": [
            "<class 'pandas.core.frame.DataFrame'>\n",
            "Int64Index: 6954 entries, 0 to 7042\n",
            "Data columns (total 20 columns):\n",
            " #   Column            Non-Null Count  Dtype  \n",
            "---  ------            --------------  -----  \n",
            " 0   gender            6954 non-null   object \n",
            " 1   SeniorCitizen     6954 non-null   object \n",
            " 2   Partner           6954 non-null   object \n",
            " 3   Dependents        6954 non-null   object \n",
            " 4   tenure            6954 non-null   float64\n",
            " 5   PhoneService      6954 non-null   object \n",
            " 6   MultipleLines     6954 non-null   object \n",
            " 7   InternetService   6954 non-null   object \n",
            " 8   OnlineSecurity    6954 non-null   object \n",
            " 9   OnlineBackup      6954 non-null   object \n",
            " 10  DeviceProtection  6954 non-null   object \n",
            " 11  TechSupport       6954 non-null   object \n",
            " 12  StreamingTV       6954 non-null   object \n",
            " 13  StreamingMovies   6954 non-null   object \n",
            " 14  Contract          6954 non-null   object \n",
            " 15  PaperlessBilling  6954 non-null   object \n",
            " 16  PaymentMethod     6954 non-null   object \n",
            " 17  MonthlyCharges    6954 non-null   float64\n",
            " 18  TotalCharges      6954 non-null   float64\n",
            " 19  Churn             6954 non-null   object \n",
            "dtypes: float64(3), object(17)\n",
            "memory usage: 1.1+ MB\n"
          ]
        }
      ]
    },
    {
      "cell_type": "markdown",
      "source": [
        "We see 3 features with numeric values\n",
        "- `tenure`\n",
        "- `MonthlyCharges`\n",
        "- `TotalCharges`\n",
        "\n",
        "We will scale these 3 feature columns. And will categorically encode all the other columns as all the other columns contains categorical values."
      ],
      "metadata": {
        "id": "gu7jQIR_G-KY"
      }
    },
    {
      "cell_type": "code",
      "source": [
        "from sklearn.preprocessing import MinMaxScaler, OrdinalEncoder, LabelEncoder\n",
        "from sklearn.compose import ColumnTransformer\n",
        "from sklearn.pipeline import Pipeline\n",
        "\n",
        "# Define the numeric and categorical columns\n",
        "numeric_columns = ['tenure', 'MonthlyCharges', 'TotalCharges']\n",
        "categorical_columns = [col for col in X_train.columns if col not in numeric_columns]\n",
        "\n",
        "# Create transformers\n",
        "numeric_transformer = Pipeline(steps=[\n",
        "    ('scaler', MinMaxScaler())])\n",
        "\n",
        "categorical_transformer = Pipeline(steps=[\n",
        "    ('encoder', OrdinalEncoder())])\n",
        "\n",
        "# Combine transformers\n",
        "preprocessor = ColumnTransformer(\n",
        "    transformers=[\n",
        "        ('num', numeric_transformer, numeric_columns),\n",
        "        ('cat', categorical_transformer, categorical_columns)])\n",
        "\n",
        "# Fit and transform the data\n",
        "X_train = preprocessor.fit_transform(X_train)\n",
        "\n",
        "# Encoding y_train as well\n",
        "le = LabelEncoder()\n",
        "y_train = le.fit_transform(y_train)"
      ],
      "metadata": {
        "id": "lVVjs9dOHRXu"
      },
      "execution_count": null,
      "outputs": []
    },
    {
      "cell_type": "code",
      "source": [
        "print(\"=============== X Train Encoded ===============\")\n",
        "print(X_train)\n",
        "print(\"=============== Y Train Encoded ===============\")\n",
        "print(y_train)"
      ],
      "metadata": {
        "colab": {
          "base_uri": "https://localhost:8080/"
        },
        "id": "Li48ifstNwiW",
        "outputId": "5d83cafa-94c2-4c2d-8d59-7330b8aa121b"
      },
      "execution_count": null,
      "outputs": [
        {
          "output_type": "stream",
          "name": "stdout",
          "text": [
            "=============== X Train Encoded ===============\n",
            "[[1.         0.3721393  0.44555992 ... 2.         0.         1.        ]\n",
            " [0.22222222 0.56218905 0.12814521 ... 0.         1.         1.        ]\n",
            " [0.77777778 0.86915423 0.69811157 ... 1.         1.         1.        ]\n",
            " ...\n",
            " [0.01388889 0.51442786 0.00589664 ... 0.         1.         2.        ]\n",
            " [0.72222222 0.8641791  0.61822997 ... 1.         1.         0.        ]\n",
            " [0.52777778 0.6039801  0.32814637 ... 1.         0.         1.        ]]\n",
            "=============== Y Train Encoded ===============\n",
            "[0 0 0 ... 1 0 0]\n"
          ]
        }
      ]
    },
    {
      "cell_type": "markdown",
      "source": [
        "## Implementing ML Models"
      ],
      "metadata": {
        "id": "NpLueNvHMWMA"
      }
    },
    {
      "cell_type": "markdown",
      "source": [
        "### Implementing Decision Tree"
      ],
      "metadata": {
        "id": "wl4-8VaRMZfZ"
      }
    },
    {
      "cell_type": "code",
      "source": [
        "from sklearn.tree import DecisionTreeClassifier\n",
        "from sklearn.metrics import accuracy_score\n",
        "\n",
        "# Create a decision tree classifier object\n",
        "clf = DecisionTreeClassifier()\n",
        "\n",
        "# Train the model\n",
        "clf.fit(X_train, y_train)\n",
        "\n",
        "# Predict on the test data\n",
        "X_test_processed = preprocessor.transform(X_test)\n",
        "y_test_processed = le.transform(y_test)\n",
        "y_pred = clf.predict(X_test_processed)\n",
        "\n",
        "# Calculate accuracy\n",
        "accuracy_using_decision_tree = accuracy_score(y_test_processed, y_pred)\n",
        "\n",
        "print(\"Model accuracy using Decision Tree: \", round(accuracy_using_decision_tree*100, 2), \"%\")"
      ],
      "metadata": {
        "id": "qb3-Heh3MdmC",
        "colab": {
          "base_uri": "https://localhost:8080/"
        },
        "outputId": "90789869-65a0-4dee-de06-d20a619963d2"
      },
      "execution_count": null,
      "outputs": [
        {
          "output_type": "stream",
          "name": "stdout",
          "text": [
            "Model accuracy using Decision Tree:  74.22 %\n"
          ]
        }
      ]
    },
    {
      "cell_type": "markdown",
      "source": [
        "### Implementing Random Forest"
      ],
      "metadata": {
        "id": "Chv9Gvx7Y8Ci"
      }
    },
    {
      "cell_type": "code",
      "source": [
        "from sklearn.ensemble import RandomForestClassifier\n",
        "from sklearn.metrics import accuracy_score\n",
        "\n",
        "# Create a random forest classifier object\n",
        "clf = RandomForestClassifier()\n",
        "\n",
        "# Train the model\n",
        "clf.fit(X_train, y_train)\n",
        "\n",
        "# Predict on the test data\n",
        "X_test_processed = preprocessor.transform(X_test)\n",
        "y_test_processed = le.transform(y_test)\n",
        "y_pred = clf.predict(X_test_processed)\n",
        "\n",
        "# Calculate accuracy\n",
        "accuracy_using_random_forest = accuracy_score(y_test_processed, y_pred)\n",
        "\n",
        "print(\"Model accuracy using Random Forest: \", round(accuracy_using_random_forest*100, 2), \"%\")"
      ],
      "metadata": {
        "colab": {
          "base_uri": "https://localhost:8080/"
        },
        "id": "B9RZ7_xoY8fV",
        "outputId": "3cf2a523-daf7-4b3b-aaf4-aa8dcee7641d"
      },
      "execution_count": null,
      "outputs": [
        {
          "output_type": "stream",
          "name": "stdout",
          "text": [
            "Model accuracy using Random Forest:  78.77 %\n"
          ]
        }
      ]
    },
    {
      "cell_type": "markdown",
      "source": [
        "### Implementing Logistic Regression"
      ],
      "metadata": {
        "id": "3_NhaIY9Z2Gc"
      }
    },
    {
      "cell_type": "code",
      "source": [
        "from sklearn.linear_model import LogisticRegression\n",
        "from sklearn.metrics import accuracy_score\n",
        "\n",
        "# Create a logistic regression object\n",
        "clf = LogisticRegression()\n",
        "\n",
        "# Train the model\n",
        "clf.fit(X_train, y_train)\n",
        "\n",
        "# Predict on the test data\n",
        "X_test_processed = preprocessor.transform(X_test)\n",
        "y_test_processed = le.transform(y_test)\n",
        "y_pred = clf.predict(X_test_processed)\n",
        "\n",
        "# Calculate accuracy\n",
        "accuracy_using_logistic_regression = accuracy_score(y_test_processed, y_pred)\n",
        "\n",
        "print(\"Model accuracy using Logistic Regression: \", round(accuracy_using_logistic_regression*100, 2), \"%\")"
      ],
      "metadata": {
        "colab": {
          "base_uri": "https://localhost:8080/"
        },
        "id": "ho0Slk6WZ5pH",
        "outputId": "971f5248-755e-41f6-901f-b4abbe0fb518"
      },
      "execution_count": null,
      "outputs": [
        {
          "output_type": "stream",
          "name": "stdout",
          "text": [
            "Model accuracy using Logistic Regression:  80.64 %\n"
          ]
        }
      ]
    },
    {
      "cell_type": "markdown",
      "source": [
        "### Implementing Gaussian Naive Bayes"
      ],
      "metadata": {
        "id": "aNFumJ6TaqgF"
      }
    },
    {
      "cell_type": "code",
      "source": [
        "from sklearn.naive_bayes import GaussianNB\n",
        "from sklearn.metrics import accuracy_score\n",
        "\n",
        "# Create a Gaussian Naive Bayes classifier object\n",
        "clf = GaussianNB()\n",
        "\n",
        "# Train the model\n",
        "clf.fit(X_train, y_train)\n",
        "\n",
        "# Predict on the test data\n",
        "X_test_processed = preprocessor.transform(X_test)\n",
        "y_test_processed = le.transform(y_test)\n",
        "y_pred = clf.predict(X_test_processed)\n",
        "\n",
        "# Calculate accuracy\n",
        "accuracy_using_gaussian_nb = accuracy_score(y_test_processed, y_pred)\n",
        "\n",
        "print(\"Model accuracy using Gaussian Naive Bayes: \", round(accuracy_using_gaussian_nb*100, 2), \"%\")"
      ],
      "metadata": {
        "colab": {
          "base_uri": "https://localhost:8080/"
        },
        "id": "qq_pedSsaYWJ",
        "outputId": "a5d73dad-c4fb-41da-cc67-8b7682573245"
      },
      "execution_count": null,
      "outputs": [
        {
          "output_type": "stream",
          "name": "stdout",
          "text": [
            "Model accuracy using Gaussian Naive Bayes:  76.23 %\n"
          ]
        }
      ]
    },
    {
      "cell_type": "markdown",
      "source": [
        "## Visualising Data"
      ],
      "metadata": {
        "id": "YHr389lNbLD9"
      }
    },
    {
      "cell_type": "markdown",
      "source": [
        "### Churn: Yes vs No\n",
        "In our data we ave more no's than yes. Which is a good indicator for the business.\n",
        "\n"
      ],
      "metadata": {
        "id": "KvbxyZLfjcQA"
      }
    },
    {
      "cell_type": "code",
      "source": [
        "import matplotlib.pyplot as plt\n",
        "import seaborn as sns\n",
        "\n",
        "# Creating a countplot with custom colors\n",
        "ax = sns.countplot(x='Churn', data=data, palette=['#fdfa72', '#fffec8'])\n",
        "\n",
        "# Annotate the counts on top of the bars\n",
        "for p in ax.patches:\n",
        "    ax.annotate(format(p.get_height()), (p.get_x() + p.get_width() / 2., p.get_height()), ha = 'center', va = 'center', xytext = (0, 10), textcoords = 'offset points')\n",
        "\n",
        "plt.show()"
      ],
      "metadata": {
        "colab": {
          "base_uri": "https://localhost:8080/",
          "height": 453
        },
        "id": "sIV5KEhfiMfb",
        "outputId": "7452f74a-3ed5-45ed-b37d-f81cdc70d941"
      },
      "execution_count": null,
      "outputs": [
        {
          "output_type": "display_data",
          "data": {
            "text/plain": [
              "<Figure size 640x480 with 1 Axes>"
            ],
            "image/png": "[encoded data removed]"
          },
          "metadata": {}
        }
      ]
    },
    {
      "cell_type": "markdown",
      "source": [
        "### Prediction Accuracy of Different Models\n",
        "After comparing between the models, it seems like logistic regression performs better than any other models we have used."
      ],
      "metadata": {
        "id": "sjvEPYJAvzQO"
      }
    },
    {
      "cell_type": "code",
      "source": [
        "# Assuming you have calculated the accuracy of each model\n",
        "accuracy_dict = {\n",
        "    'Decision Tree': accuracy_using_decision_tree*100,\n",
        "    'Random Forest': accuracy_using_random_forest*100,\n",
        "    'Logistic Regression': accuracy_using_logistic_regression*100,\n",
        "    'Naive Bayes': accuracy_using_gaussian_nb*100\n",
        "}\n",
        "\n",
        "# Convert the dictionary to a pandas DataFrame\n",
        "accuracy_df = pd.DataFrame(list(accuracy_dict.items()), columns=['Model', 'Accuracy'])\n",
        "\n",
        "# Create a bar plot with custom colors\n",
        "plt.figure(figsize=(10, 6))\n",
        "ax = sns.barplot(x='Model', y='Accuracy', data=accuracy_df, palette=['#e5c3c6', '#e1e9b7', '#f96161', '#bcd2d0'])\n",
        "\n",
        "# Annotate the accuracy on top of the bars\n",
        "for p in ax.patches:\n",
        "    ax.annotate(format(p.get_height(), '.2f'), (p.get_x() + p.get_width() / 2., p.get_height()), ha = 'center', va = 'center', xytext = (0, 10), textcoords = 'offset points')\n",
        "\n",
        "plt.show()"
      ],
      "metadata": {
        "colab": {
          "base_uri": "https://localhost:8080/",
          "height": 542
        },
        "id": "WDXoJdU2v77R",
        "outputId": "f28ca974-9665-42be-967f-38f625b8bcc6"
      },
      "execution_count": null,
      "outputs": [
        {
          "output_type": "display_data",
          "data": {
            "text/plain": [
              "<Figure size 1000x600 with 1 Axes>"
            ],
            "image/png": "[encoded data removed]"
          },
          "metadata": {}
        }
      ]
    }
  ]
}